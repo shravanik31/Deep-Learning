{
 "cells": [
  {
   "cell_type": "code",
   "execution_count": 6,
   "id": "3eb645b1",
   "metadata": {},
   "outputs": [
    {
     "name": "stdout",
     "output_type": "stream",
     "text": [
      "Files already downloaded and verified\n",
      "Files already downloaded and verified\n"
     ]
    }
   ],
   "source": [
    "import torch\n",
    "import torch.nn as nn\n",
    "import torch.optim as optim\n",
    "import torch.nn.functional as F\n",
    "import torchvision\n",
    "import torchvision.transforms as transforms\n",
    "import numpy as np\n",
    "import matplotlib.pyplot as plt\n",
    "\n",
    "train_batch_size = 100\n",
    "test_batch_size = 64\n",
    "\n",
    "transform = transforms.Compose([\n",
    "    transforms.ToTensor(),\n",
    "    transforms.Normalize((0.4914, 0.4822, 0.4465), (0.2023, 0.1994, 0.2010))\n",
    "])\n",
    "\n",
    "trainset = torchvision.datasets.CIFAR10(root='./data', train=True, download=True, transform=transform)\n",
    "temp = torch.tensor(np.random.randint(0, 10, (len(trainset),)))\n",
    "trainset.targets = temp.tolist()\n",
    "trainloader = torch.utils.data.DataLoader(trainset, batch_size=train_batch_size, shuffle=True)\n",
    "\n",
    "testset = torchvision.datasets.CIFAR10(root='./data', train=False, download=True, transform=transform)\n",
    "testloader = torch.utils.data.DataLoader(testset, batch_size=test_batch_size, shuffle=False)"
   ]
  },
  {
   "cell_type": "code",
   "execution_count": 2,
   "id": "0d383c2b",
   "metadata": {},
   "outputs": [],
   "source": [
    "class CNN_Model(nn.Module):\n",
    "    def __init__(self):\n",
    "        super(CNN_Model, self).__init__()\n",
    "        self.conv1 = nn.Conv2d(3, 16, kernel_size=3, padding=1)  \n",
    "        self.bn1 = nn.BatchNorm2d(16)\n",
    "        self.conv2 = nn.Conv2d(16, 32, kernel_size=3, padding=1)\n",
    "        self.bn2 = nn.BatchNorm2d(32)\n",
    "        self.conv3 = nn.Conv2d(32, 64, kernel_size=3, padding=1)\n",
    "        self.bn3 = nn.BatchNorm2d(64)\n",
    "        self.fc1 = nn.Linear(64 * 4 * 4, 120)  \n",
    "        self.fc2 = nn.Linear(120, 10)\n",
    "\n",
    "    def forward(self, x):\n",
    "        x = F.relu(F.max_pool2d(self.conv1(x), 2))\n",
    "        x = self.bn1(x)\n",
    "        x = F.relu(F.max_pool2d(self.conv2(x), 2))\n",
    "        x = self.bn2(x)\n",
    "        x = F.relu(F.max_pool2d(self.conv3(x), 2))\n",
    "        x = self.bn3(x)\n",
    "        x = x.view(-1, 64 * 4 * 4)  \n",
    "        x = F.relu(self.fc1(x))\n",
    "        x = self.fc2(x)\n",
    "        return F.log_softmax(x, dim=1)"
   ]
  },
  {
   "cell_type": "code",
   "execution_count": 3,
   "id": "2fb4734b",
   "metadata": {},
   "outputs": [],
   "source": [
    "def train_and_evaluate_model(model, train_loader, test_loader, optimizer, criterion, epochs=100):\n",
    "    model.train()\n",
    "    train_losses, test_losses = [], []\n",
    "\n",
    "    for epoch in range(epochs):\n",
    "        total_train_loss = 0.0\n",
    "\n",
    "        for inputs, labels in train_loader:\n",
    "            optimizer.zero_grad()\n",
    "            outputs = model(inputs)\n",
    "            loss = criterion(outputs, labels)\n",
    "            loss.backward()\n",
    "            optimizer.step()\n",
    "            total_train_loss += loss.item()\n",
    "\n",
    "        avg_train_loss = total_train_loss / len(train_loader)\n",
    "        train_losses.append(avg_train_loss)\n",
    "\n",
    "        model.eval()\n",
    "        total_test_loss = 0.0\n",
    "        total_correct = 0\n",
    "        with torch.no_grad():\n",
    "            for inputs, labels in test_loader:\n",
    "                outputs = model(inputs)\n",
    "                total_test_loss += criterion(outputs, labels).item()\n",
    "                preds = outputs.argmax(dim=1, keepdim=True)\n",
    "                total_correct += preds.eq(labels.view_as(preds)).sum().item()\n",
    "\n",
    "        avg_test_loss = total_test_loss / len(test_loader)\n",
    "        test_losses.append(avg_test_loss)\n",
    "        accuracy = total_correct / len(test_loader.dataset)\n",
    "\n",
    "        print(f'Epoch {epoch + 1}, Train Loss: {avg_train_loss:.4f}, Test Loss: {avg_test_loss:.4f}, Accuracy: {accuracy:.4f}')\n",
    "\n",
    "    return train_losses, test_losses"
   ]
  },
  {
   "cell_type": "code",
   "execution_count": 4,
   "id": "01d0217a",
   "metadata": {},
   "outputs": [
    {
     "name": "stdout",
     "output_type": "stream",
     "text": [
      "Epoch 1, Train Loss: 2.3178, Test Loss: 2.3064, Accuracy: 0.0947\n",
      "Epoch 2, Train Loss: 2.3023, Test Loss: 2.3088, Accuracy: 0.0672\n",
      "Epoch 3, Train Loss: 2.2991, Test Loss: 2.3185, Accuracy: 0.0896\n",
      "Epoch 4, Train Loss: 2.2928, Test Loss: 2.2889, Accuracy: 0.1398\n",
      "Epoch 5, Train Loss: 2.2786, Test Loss: 2.3270, Accuracy: 0.0875\n",
      "Epoch 6, Train Loss: 2.2480, Test Loss: 2.3351, Accuracy: 0.1091\n",
      "Epoch 7, Train Loss: 2.1870, Test Loss: 2.4144, Accuracy: 0.0966\n",
      "Epoch 8, Train Loss: 2.0882, Test Loss: 2.5225, Accuracy: 0.1000\n",
      "Epoch 9, Train Loss: 1.9669, Test Loss: 2.6141, Accuracy: 0.0924\n",
      "Epoch 10, Train Loss: 1.8261, Test Loss: 2.7507, Accuracy: 0.1010\n",
      "Epoch 11, Train Loss: 1.6946, Test Loss: 3.0557, Accuracy: 0.0943\n",
      "Epoch 12, Train Loss: 1.5640, Test Loss: 3.2466, Accuracy: 0.0978\n",
      "Epoch 13, Train Loss: 1.4490, Test Loss: 3.5869, Accuracy: 0.0971\n",
      "Epoch 14, Train Loss: 1.3506, Test Loss: 3.8066, Accuracy: 0.0917\n",
      "Epoch 15, Train Loss: 1.2661, Test Loss: 4.0806, Accuracy: 0.0943\n",
      "Epoch 16, Train Loss: 1.1880, Test Loss: 4.5132, Accuracy: 0.0988\n",
      "Epoch 17, Train Loss: 1.1268, Test Loss: 4.8162, Accuracy: 0.0939\n",
      "Epoch 18, Train Loss: 1.0613, Test Loss: 4.9577, Accuracy: 0.0988\n",
      "Epoch 19, Train Loss: 1.0122, Test Loss: 5.2349, Accuracy: 0.0965\n",
      "Epoch 20, Train Loss: 0.9705, Test Loss: 5.6465, Accuracy: 0.1007\n",
      "Epoch 21, Train Loss: 0.9406, Test Loss: 6.0223, Accuracy: 0.0935\n",
      "Epoch 22, Train Loss: 0.8925, Test Loss: 6.4493, Accuracy: 0.0959\n",
      "Epoch 23, Train Loss: 0.8640, Test Loss: 6.5253, Accuracy: 0.0959\n",
      "Epoch 24, Train Loss: 0.8376, Test Loss: 6.8597, Accuracy: 0.0981\n",
      "Epoch 25, Train Loss: 0.8026, Test Loss: 7.1744, Accuracy: 0.0934\n",
      "Epoch 26, Train Loss: 0.7816, Test Loss: 7.5841, Accuracy: 0.0950\n",
      "Epoch 27, Train Loss: 0.7643, Test Loss: 7.5251, Accuracy: 0.0955\n",
      "Epoch 28, Train Loss: 0.7524, Test Loss: 7.7315, Accuracy: 0.0915\n",
      "Epoch 29, Train Loss: 0.7340, Test Loss: 8.1613, Accuracy: 0.0977\n",
      "Epoch 30, Train Loss: 0.7017, Test Loss: 8.2081, Accuracy: 0.0960\n",
      "Epoch 31, Train Loss: 0.6994, Test Loss: 8.3734, Accuracy: 0.0942\n",
      "Epoch 32, Train Loss: 0.6883, Test Loss: 8.7886, Accuracy: 0.0951\n",
      "Epoch 33, Train Loss: 0.6633, Test Loss: 8.8514, Accuracy: 0.0972\n",
      "Epoch 34, Train Loss: 0.6495, Test Loss: 8.9947, Accuracy: 0.1004\n",
      "Epoch 35, Train Loss: 0.6438, Test Loss: 9.2549, Accuracy: 0.0968\n",
      "Epoch 36, Train Loss: 0.6428, Test Loss: 9.1009, Accuracy: 0.0932\n",
      "Epoch 37, Train Loss: 0.6095, Test Loss: 9.3118, Accuracy: 0.0935\n",
      "Epoch 38, Train Loss: 0.6104, Test Loss: 9.7247, Accuracy: 0.0987\n",
      "Epoch 39, Train Loss: 0.6002, Test Loss: 10.0246, Accuracy: 0.0940\n",
      "Epoch 40, Train Loss: 0.5944, Test Loss: 10.4622, Accuracy: 0.0959\n",
      "Epoch 41, Train Loss: 0.5744, Test Loss: 10.3157, Accuracy: 0.0970\n",
      "Epoch 42, Train Loss: 0.5734, Test Loss: 10.4958, Accuracy: 0.0946\n",
      "Epoch 43, Train Loss: 0.5652, Test Loss: 10.6527, Accuracy: 0.0954\n",
      "Epoch 44, Train Loss: 0.5659, Test Loss: 10.8635, Accuracy: 0.0936\n",
      "Epoch 45, Train Loss: 0.5383, Test Loss: 11.1903, Accuracy: 0.0974\n",
      "Epoch 46, Train Loss: 0.5377, Test Loss: 10.8854, Accuracy: 0.0943\n",
      "Epoch 47, Train Loss: 0.5305, Test Loss: 11.0809, Accuracy: 0.0941\n",
      "Epoch 48, Train Loss: 0.5161, Test Loss: 11.6431, Accuracy: 0.0977\n",
      "Epoch 49, Train Loss: 0.5187, Test Loss: 11.3524, Accuracy: 0.0940\n",
      "Epoch 50, Train Loss: 0.5328, Test Loss: 11.2366, Accuracy: 0.0973\n",
      "Epoch 51, Train Loss: 0.4928, Test Loss: 11.8169, Accuracy: 0.1000\n",
      "Epoch 52, Train Loss: 0.4986, Test Loss: 11.5668, Accuracy: 0.0921\n",
      "Epoch 53, Train Loss: 0.4972, Test Loss: 12.0802, Accuracy: 0.0954\n",
      "Epoch 54, Train Loss: 0.4845, Test Loss: 12.0182, Accuracy: 0.0949\n",
      "Epoch 55, Train Loss: 0.4857, Test Loss: 12.2092, Accuracy: 0.1017\n",
      "Epoch 56, Train Loss: 0.4607, Test Loss: 12.9514, Accuracy: 0.0939\n",
      "Epoch 57, Train Loss: 0.4617, Test Loss: 12.7103, Accuracy: 0.0983\n",
      "Epoch 58, Train Loss: 0.4706, Test Loss: 12.3999, Accuracy: 0.0948\n",
      "Epoch 59, Train Loss: 0.4716, Test Loss: 12.9650, Accuracy: 0.0904\n",
      "Epoch 60, Train Loss: 0.4594, Test Loss: 13.2204, Accuracy: 0.0987\n",
      "Epoch 61, Train Loss: 0.4473, Test Loss: 13.3323, Accuracy: 0.0962\n",
      "Epoch 62, Train Loss: 0.4384, Test Loss: 13.4565, Accuracy: 0.0973\n",
      "Epoch 63, Train Loss: 0.4536, Test Loss: 13.3817, Accuracy: 0.0990\n",
      "Epoch 64, Train Loss: 0.4340, Test Loss: 13.3769, Accuracy: 0.0912\n",
      "Epoch 65, Train Loss: 0.4459, Test Loss: 13.6264, Accuracy: 0.0972\n",
      "Epoch 66, Train Loss: 0.4107, Test Loss: 14.2540, Accuracy: 0.0943\n",
      "Epoch 67, Train Loss: 0.4172, Test Loss: 13.9867, Accuracy: 0.0962\n",
      "Epoch 68, Train Loss: 0.4346, Test Loss: 13.8636, Accuracy: 0.0959\n",
      "Epoch 69, Train Loss: 0.4357, Test Loss: 13.6553, Accuracy: 0.0970\n",
      "Epoch 70, Train Loss: 0.4129, Test Loss: 13.8409, Accuracy: 0.0987\n",
      "Epoch 71, Train Loss: 0.3944, Test Loss: 14.4903, Accuracy: 0.1006\n",
      "Epoch 72, Train Loss: 0.3987, Test Loss: 14.6459, Accuracy: 0.0958\n",
      "Epoch 73, Train Loss: 0.4134, Test Loss: 14.4112, Accuracy: 0.0969\n",
      "Epoch 74, Train Loss: 0.4104, Test Loss: 14.1759, Accuracy: 0.0967\n",
      "Epoch 75, Train Loss: 0.3943, Test Loss: 14.5878, Accuracy: 0.0976\n",
      "Epoch 76, Train Loss: 0.3871, Test Loss: 14.5484, Accuracy: 0.0965\n",
      "Epoch 77, Train Loss: 0.4046, Test Loss: 14.4341, Accuracy: 0.0954\n",
      "Epoch 78, Train Loss: 0.3946, Test Loss: 15.0606, Accuracy: 0.0948\n",
      "Epoch 79, Train Loss: 0.3755, Test Loss: 15.0019, Accuracy: 0.0945\n",
      "Epoch 80, Train Loss: 0.3631, Test Loss: 15.6938, Accuracy: 0.0956\n",
      "Epoch 81, Train Loss: 0.3770, Test Loss: 15.0716, Accuracy: 0.0963\n",
      "Epoch 82, Train Loss: 0.3804, Test Loss: 14.9867, Accuracy: 0.0988\n",
      "Epoch 83, Train Loss: 0.3857, Test Loss: 15.5724, Accuracy: 0.0991\n",
      "Epoch 84, Train Loss: 0.3705, Test Loss: 15.6751, Accuracy: 0.0956\n",
      "Epoch 85, Train Loss: 0.3580, Test Loss: 15.5282, Accuracy: 0.0989\n",
      "Epoch 86, Train Loss: 0.3464, Test Loss: 15.6766, Accuracy: 0.0943\n",
      "Epoch 87, Train Loss: 0.3888, Test Loss: 15.8000, Accuracy: 0.0994\n",
      "Epoch 88, Train Loss: 0.3822, Test Loss: 15.3914, Accuracy: 0.0985\n",
      "Epoch 89, Train Loss: 0.3470, Test Loss: 16.2078, Accuracy: 0.0961\n",
      "Epoch 90, Train Loss: 0.3380, Test Loss: 16.3517, Accuracy: 0.0973\n",
      "Epoch 91, Train Loss: 0.3443, Test Loss: 16.2567, Accuracy: 0.0942\n",
      "Epoch 92, Train Loss: 0.3481, Test Loss: 16.7031, Accuracy: 0.0967\n",
      "Epoch 93, Train Loss: 0.3430, Test Loss: 16.5245, Accuracy: 0.0983\n",
      "Epoch 94, Train Loss: 0.3527, Test Loss: 16.5467, Accuracy: 0.0937\n",
      "Epoch 95, Train Loss: 0.3369, Test Loss: 16.9640, Accuracy: 0.0947\n",
      "Epoch 96, Train Loss: 0.3454, Test Loss: 16.2403, Accuracy: 0.0982\n",
      "Epoch 97, Train Loss: 0.3489, Test Loss: 16.6572, Accuracy: 0.0950\n",
      "Epoch 98, Train Loss: 0.3251, Test Loss: 16.9914, Accuracy: 0.0957\n",
      "Epoch 99, Train Loss: 0.3288, Test Loss: 16.7003, Accuracy: 0.0930\n",
      "Epoch 100, Train Loss: 0.3242, Test Loss: 17.1122, Accuracy: 0.0964\n"
     ]
    }
   ],
   "source": [
    "model = CNN_Model()\n",
    "loss_func = nn.CrossEntropyLoss()\n",
    "optimizer = optim.Adam(model.parameters(), lr=0.001)\n",
    "train_losses, test_losses = train_and_evaluate_model(model, trainloader, testloader, optimizer, loss_func)"
   ]
  },
  {
   "cell_type": "code",
   "execution_count": 7,
   "id": "0c80b25b",
   "metadata": {},
   "outputs": [
    {
     "data": {
      "text/plain": [
       "<matplotlib.legend.Legend at 0x16594df10>"
      ]
     },
     "execution_count": 7,
     "metadata": {},
     "output_type": "execute_result"
    },
    {
     "data": {
      "image/png": "[encoded data removed]",
      "text/plain": [
       "<Figure size 1200x500 with 1 Axes>"
      ]
     },
     "metadata": {},
     "output_type": "display_data"
    }
   ],
   "source": [
    "plt.figure(figsize=(12, 5))\n",
    "plt.subplot(1, 2, 1)\n",
    "plt.plot(train_losses, label='Train Loss')\n",
    "plt.plot(test_losses, label='Test Loss')\n",
    "plt.xlabel('Epoch')\n",
    "plt.ylabel('Loss')\n",
    "plt.legend()"
   ]
  },
  {
   "cell_type": "code",
   "execution_count": null,
   "id": "1d8b43c9",
   "metadata": {},
   "outputs": [],
   "source": []
  }
 ],
 "metadata": {
  "kernelspec": {
   "display_name": "Python 3 (ipykernel)",
   "language": "python",
   "name": "python3"
  },
  "language_info": {
   "codemirror_mode": {
    "name": "ipython",
    "version": 3
   },
   "file_extension": ".py",
   "mimetype": "text/x-python",
   "name": "python",
   "nbconvert_exporter": "python",
   "pygments_lexer": "ipython3",
   "version": "3.11.5"
  }
 },
 "nbformat": 4,
 "nbformat_minor": 5
}
